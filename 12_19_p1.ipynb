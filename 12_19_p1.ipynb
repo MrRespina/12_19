{
 "cells": [
  {
   "cell_type": "code",
   "execution_count": 18,
   "id": "1dd75be5-5575-46f2-831e-926e9fc009de",
   "metadata": {},
   "outputs": [
    {
     "name": "stdout",
     "output_type": "stream",
     "text": [
      "10,20\n",
      "!!!!!!!!!J,!!20.00!!!\n"
     ]
    }
   ],
   "source": [
    "print(\"{},{}\".format(10,20))\n",
    "name = 'J'\n",
    "age = 20\n",
    "print(f\"{name:!>10},{age:!^10.2f}\")"
   ]
  },
  {
   "cell_type": "code",
   "execution_count": 51,
   "id": "d57fe6bf-7437-430e-87bb-e5a1480d8761",
   "metadata": {},
   "outputs": [
    {
     "name": "stdout",
     "output_type": "stream",
     "text": [
      "+52\n",
      "-52\n",
      "52\n",
      "-52\n",
      " 52\n",
      "        52\n",
      "        52\n",
      "       +52\n",
      "       -52\n",
      "5552525555\n",
      "255\n",
      "256\n"
     ]
    }
   ],
   "source": [
    "print(\"{:+d}\".format(52)) # 기호를 출력\n",
    "print(\"{:+d}\".format(-52))\n",
    "print(\"{}\".format(52))\n",
    "print(\"{0}\".format(-52))\n",
    "print(\"{: }\".format(52))\n",
    "print(\"{:10}\".format(52))\n",
    "print(\"{:10d}\".format(52))\n",
    "print(\"{:+10d}\".format(52))\n",
    "print(\"{:+10d}\".format(-52))\n",
    "print(\"{:5^10d}\".format(252)) #정렬이 있어야 0 이외의 정수를 넣거나 채우기 기능을 활용할 수 있다.\n",
    "print(\"{:g}\".format(255.0))  #소숫점이하의 숫자가 0인 경우만.\n",
    "print(\"{:.0f}\".format(255.8))   #.0f하면 반올림되서 정수로 출력됨."
   ]
  },
  {
   "cell_type": "code",
   "execution_count": 54,
   "id": "ec9aae64-dedd-448a-a165-427665608d0b",
   "metadata": {},
   "outputs": [],
   "source": [
    "# 기본 자료형 : 리터널 : 자연수 : 숫자 : 정수\n",
    "#                                        실수\n",
    "#                        자연어 : 문자열 : 영어,...\n",
    "# 파이썬 자료형 : 리스트 : 모든 타입들을 여러개 저장할 수 있음.\n",
    "#             (java)List : GenericType(형) 이 Object되어있는 리스트와 같음.\n",
    "# List<Type> list = new ArrayList<Type>();\n",
    "\n",
    "ll = [] # 빈 리스트\n",
    "l = [1,2,3,4] # 정수형 리스트\n",
    "l2 = [10.52,25.2,36.1] # 실수형 리스트\n",
    "l3 = ['a','b','c','d'] # 문자열형 리스트\n",
    "l4 = [1,2,3,'a','b','c',10.52,25.2] # 혼합형 리스트\n",
    "l5 = [1,2,3,'a','b','c',10.52,25.2,[10,11,12,13],\"10\"] # 리스트를 포함한 혼합형 리스트\n",
    "l6 = [[1,2,3],[4,5,6],[7,8,9]] # 리스트를 포함한 리스트\n",
    "# 리스트 안에 있는 값을 요소라고 한다.\n",
    "연습1 = \"Life is too short, you need python\""
   ]
  },
  {
   "cell_type": "code",
   "execution_count": 65,
   "id": "2085d063-8875-4578-988d-870614696766",
   "metadata": {},
   "outputs": [
    {
     "name": "stdout",
     "output_type": "stream",
     "text": [
      "['Life', 'is', 'too', 'short']\n",
      "['Life', 'is', 'too', 'short']\n",
      "is\n",
      "Life\n",
      "[10, 11, 12, 13]\n",
      "5\n",
      "bc\n"
     ]
    }
   ],
   "source": [
    "i = [\"Life\",'is',\"too\",'short']\n",
    "print(i)\n",
    "\n",
    "str1 = \"Life is too short\"\n",
    "res = str1.split() # split시, 리스트로 나누어 줌.\n",
    "print(res)\n",
    "print(res[1])  # list.get(index)\n",
    "print(res[-4])\n",
    "print(l5[8])\n",
    "\n",
    "print(l5[1] + l5[2])\n",
    "print(l5[4] + l5[5])"
   ]
  },
  {
   "cell_type": "code",
   "execution_count": 71,
   "id": "b7246d1b-a93f-4f06-ad3d-6a0f24476e7f",
   "metadata": {},
   "outputs": [
    {
     "name": "stdout",
     "output_type": "stream",
     "text": [
      "['a', 'b', 'c']\n",
      "b\n",
      "b\n",
      "b\n",
      "b\n"
     ]
    }
   ],
   "source": [
    "a = [1,2,3,['a','b','c'],4]\n",
    "b = a[3]\n",
    "print(b)\n",
    "print(b[1])\n",
    "print(a[3][1])\n",
    "print(a[-2][-2])\n",
    "print(a[3][-2])"
   ]
  },
  {
   "cell_type": "code",
   "execution_count": 95,
   "id": "de5a3ca8-972a-4821-9c97-eec9ec56ba57",
   "metadata": {},
   "outputs": [
    {
     "name": "stdout",
     "output_type": "stream",
     "text": [
      "['a', 'b', ['Life', 'is'], 'c']\n",
      "['Life', 'is']\n",
      "s\n",
      "Life\n",
      "[1, 2]\n",
      "[]\n",
      "[2]\n",
      "2\n",
      "[1, 2, 2]\n",
      "[1, 2, 1, 2]\n",
      "[2, 3, 'b']\n"
     ]
    }
   ],
   "source": [
    "a = [1,2,3,['a','b',['Life','is'],'c'],4]\n",
    "print(a[3])\n",
    "print(a[3][2])\n",
    "print(a[3][2][1][1:])\n",
    "\n",
    "print(a[3][2][0][:])\n",
    "#list도 slicing 가능.\n",
    "print(a[0:0+2])\n",
    "print(a[1:1+0]) # [] : 빈 리스트만 출력.\n",
    "print(a[1:1+1]) #[2] : 요소가 하나인 리스트 : slicing을 하면 요소 하나만 가져와도 리스트가 된다.\n",
    "print(a[1]) #2 : indexing을 하면 요소 자료형으로 가져온다.\n",
    "print(a[0:2] + a[1:1+1]) # 리스트 + 리스트 :[1,2,2] : +는 연결 연산자가 된다.\n",
    "print(a[0:2] * a[1]) # 리스트 * 정수 :[1,2,1,2] : *는 반복 연산자가 된다.\n",
    "print(a[1:1+2] + list(a[3][1])) # list 연산자로 cast 해줄 수 있음.\n",
    "\n",
    "# cast 함수 : str() , int() , list()"
   ]
  },
  {
   "cell_type": "code",
   "execution_count": 125,
   "id": "9ee56123-b714-4133-b099-b5705f323fbc",
   "metadata": {},
   "outputs": [
    {
     "name": "stdout",
     "output_type": "stream",
     "text": [
      "['Life', 'is', 'too', 'short']\n",
      "['Life', 'is', 'too', 'short']\n",
      "Life\n",
      "['Life', 'is', 'too', 'short']\n",
      "Life is\n",
      "['Life', 'i', 's']\n",
      "['Life'] Life\n",
      "Lifeis\n",
      "Life is too short\n",
      "Life,is,too,short\n"
     ]
    }
   ],
   "source": [
    "resl = ['Life','is','too','short']\n",
    "print(resl)\n",
    "print(resl[:])\n",
    "print(resl[0])\n",
    "print(resl[:4])\n",
    "print(resl[0] , resl[1]) # 문자 + 문자\n",
    "print(resl[0:0+1] + list(resl[1])) # 리스트 + 리스트 : ['life','i','s']\n",
    "print(resl[0:0+1] , resl[0])\n",
    "print(\"\".join(resl[0:0+1]) + resl[1]) # .join : 문자열 변환\n",
    "print(\" \".join(resl))\n",
    "print(\",\".join(resl))"
   ]
  },
  {
   "cell_type": "code",
   "execution_count": 139,
   "id": "c067035b-458a-4e8f-8430-5589fecd7c91",
   "metadata": {},
   "outputs": [
    {
     "name": "stdout",
     "output_type": "stream",
     "text": [
      "Li\n",
      "['Life', 'is']\n",
      "Li\n",
      "['Life', 'is']\n",
      "Lf stosot\n",
      "['Life', 'too']\n",
      "trohs oot si efiL\n",
      "['short', 'too', 'is', 'Life']\n",
      "hs oot si ef\n",
      "['is', 'too', 'short']\n",
      "['short', 'too', 'is']\n"
     ]
    }
   ],
   "source": [
    "str1 = \"Life is too short\"\n",
    "res = ['Life','is','too','short']\n",
    "print(str1[0:2])\n",
    "print(res[0:2])\n",
    "print(str1[:2])\n",
    "print(res[:2])\n",
    "print(str1[::2])\n",
    "print(res[::2])\n",
    "print(str1[::-1])\n",
    "print(res[::-1])\n",
    "print(str1[13:1:-1])\n",
    "print(res[1:1+3])\n",
    "print(res[3:0:-1])"
   ]
  },
  {
   "cell_type": "code",
   "execution_count": 144,
   "id": "2ffe5203-d320-4673-ba45-ff5b16781fac",
   "metadata": {},
   "outputs": [
    {
     "name": "stdout",
     "output_type": "stream",
     "text": [
      "Life is too short\n",
      "['Lyf', 'is', 'short', 'too']\n",
      "['Lyf', 'is', 100, 'too']\n",
      "17\n",
      "4\n"
     ]
    }
   ],
   "source": [
    "str1 = \"Lyfe is too short\"\n",
    "str2 = str1.replace(\"Lyfe\",\"Life\")\n",
    "print(str2)\n",
    "str3 = ['Lyf','is','short','too']\n",
    "print(str3)\n",
    "str3[2] = 100\n",
    "print(str3)\n",
    "print(len(str1))\n",
    "print(len(str3))"
   ]
  },
  {
   "cell_type": "code",
   "execution_count": 160,
   "id": "2cfeb167-3f1d-45d4-ad66-9170e0a9fd2d",
   "metadata": {},
   "outputs": [
    {
     "name": "stdout",
     "output_type": "stream",
     "text": [
      "['Life', 'is', 'too']\n",
      "['Life', 'is', 'too']\n",
      "['Life', 'is', 'too', 'short']\n",
      "['Life', 'is', 'too', 'short', 999]\n",
      "['Life', 'short']\n",
      "['Life', 'is', 'short']\n",
      "['Life', 'is', 'too', 'short']\n",
      "[1, 2, 3]\n",
      "[1, 2, 3, 4, 5, 6]\n"
     ]
    }
   ],
   "source": [
    "# 리스트에 요소 추가하는 함수\n",
    "li = ['Life','is']\n",
    "print(li + ['too'])\n",
    "li.append('too')\n",
    "print(li)\n",
    "\n",
    "# print(li.append(\"short\")) python은 원래 데이터로만 출력이 가능.(print 안에 함수 못 넣음)\n",
    "li.append('short')\n",
    "print(li)\n",
    "\n",
    "li.append(999)\n",
    "print(li)\n",
    "\n",
    "# 원하는 위치에 요소 추가\n",
    "li2 = ['Life','short']\n",
    "print(li2)\n",
    "li2.insert(1,\"is\")\n",
    "print(li2)\n",
    "\n",
    "li2.insert(2,\"too\")\n",
    "print(li2)\n",
    "\n",
    "# 리스트 확장\n",
    "a = [ 1,2,3 ]\n",
    "b = [ 4,5,6 ]\n",
    "print(a)\n",
    "a.extend(b)\n",
    "print(a)"
   ]
  },
  {
   "cell_type": "code",
   "execution_count": 174,
   "id": "7a63ae62-1a4f-4f9b-9c68-d5350295652c",
   "metadata": {},
   "outputs": [
    {
     "name": "stdout",
     "output_type": "stream",
     "text": [
      "['Life', 'is', 'too', 'short']\n",
      "['Life', 'is', 'short']\n",
      "['Life', 'short']\n",
      "['Life']\n",
      "[]\n",
      "3\n",
      "['Life', 'is', 'too', 'short']\n",
      "short\n",
      "['Life', 'is', 'too']\n",
      "is\n",
      "['Life', 'too']\n",
      "Life\n",
      "['too']\n"
     ]
    }
   ],
   "source": [
    "# 요소 삭제\n",
    "li2 = ['Life','is','too','short']\n",
    "print(li2)\n",
    "del li2[2]\n",
    "print(li2)\n",
    "del li2[1]\n",
    "print(li2)\n",
    "\n",
    "# 요소를 이용해서 삭제\n",
    "li2.remove('short')\n",
    "print(li2)\n",
    "\n",
    "# 모두 삭제\n",
    "li2.clear()\n",
    "print(li2)  # [] : 빈 리스트만 남음.\n",
    "\n",
    "l2 = ['Life','is','too','short',3]\n",
    "\n",
    "# res = del l2[4]\n",
    "# res = l2.remove('Life')\n",
    "res = l2.pop()    # 비 복원 추출\n",
    "print(res)\n",
    "print(l2)\n",
    "\n",
    "res = l2.pop()\n",
    "print(res)\n",
    "print(l2)\n",
    "\n",
    "# index를 이용해서 요소 삭제 후 삭제된 요소 받아오기\n",
    "res = l2.pop(1)\n",
    "print(res)\n",
    "print(l2)\n",
    "\n",
    "res = l2.pop(0)\n",
    "print(res)\n",
    "print(l2)\n",
    "\n",
    "# 복원 추출 : 주사위 , 배열\n",
    "l2 = ['Life','is','too','short',3]"
   ]
  },
  {
   "cell_type": "code",
   "execution_count": 190,
   "id": "219f7690-6820-47eb-8f5b-9f0b5c74306c",
   "metadata": {},
   "outputs": [
    {
     "name": "stdout",
     "output_type": "stream",
     "text": [
      "[1, 2, 3, 4, 5]\n",
      "[5, 4, 3, 2, 1]\n",
      "['a', 'b', 'c']\n",
      "['c', 'b', 'a']\n",
      "['가', '나', '다']\n",
      "['a', 'b', 'c', '가', '나', '다']\n",
      "8\n",
      "8\n",
      "2\n"
     ]
    }
   ],
   "source": [
    "# 정렬 -- 오름차순, 내림차순\n",
    "l = [4,3,5,1,2]\n",
    "\n",
    "# 오름차순으로 변경\n",
    "l.sort()\n",
    "print(l)\n",
    "\n",
    "# 내림차순으로 변경\n",
    "l.sort(reverse=True)\n",
    "print(l)\n",
    "\n",
    "le = ['b','a','c']   # 영문도 가능\n",
    "le.sort()\n",
    "print(le)\n",
    "\n",
    "le.sort(reverse=True)\n",
    "print(le)\n",
    "\n",
    "le2 = ['다','가','나']    # 한글도 가능\n",
    "le2.sort()\n",
    "print(le2)\n",
    "\n",
    "le3 = ['다','가','나','b','a','c']   # 혼합도 가능    \n",
    "le3.sort()\n",
    "print(le3)\n",
    "\n",
    "# le4 = ['다','가','나','b','a','c'3,5,4,3]   # 문자 + 숫자는 불가능\n",
    "# le4.sort()\n",
    "# print(le4)\n",
    "\n",
    "str1 = \"Life is too short\"\n",
    "print(str1.index(\"too\"))\n",
    "idx = str1.find(\"too\")\n",
    "print(idx)\n",
    "\n",
    "l = [\"Life\",'is','too','short']\n",
    "idx = l.index(\"too\")\n",
    "print(idx)\n",
    "# idx = l.find(\"too\")     / 리스트에는 find 함수가 없다!\n",
    "\n",
    "# idx = l.index(\"zoo\") : 없는 것을 찾으려고 하면 오류 발생."
   ]
  },
  {
   "cell_type": "code",
   "execution_count": 198,
   "id": "78f4838d-1503-45b6-bc9e-4f59d3acb6d3",
   "metadata": {},
   "outputs": [
    {
     "name": "stdout",
     "output_type": "stream",
     "text": [
      "[1, 2, 3, 4]\n",
      "(1, 2, 3, 4)\n",
      "32\n",
      "2\n",
      "8\n",
      "(2,)\n",
      "(8,)\n"
     ]
    }
   ],
   "source": [
    "# 기본 자료형 : 리터널 : 자연수 : 숫자 : 정수, 실수, 지수\n",
    "#                        자연어 : 문자열 : \"\",'',\"\"\"\"\"\",''''''\n",
    "# 파이썬 자료형 : List : []\n",
    "#          튜플 : ()\n",
    "l = [1,2,3,4]\n",
    "print(l)\n",
    "\n",
    "t = (1,2,3,4)\n",
    "print(t)\n",
    "\n",
    "l = [] # 빈 리스트\n",
    "t = () # 빈 튜플\n",
    "print((3 + 5) * 4) # () : 최우선 연산자\n",
    "t = (3 + 5)\n",
    "print((2)) #() : 최우선 연산자\n",
    "print(t) #() : 최우선 연산자\n",
    "\n",
    "print((2,)) #() : 튜플\n",
    "print((t,)) #() : 튜플, 요소가 하나인 경우에는 최우선 연산자와 구별하기 위해 , 사용\n",
    "t = (1,2) # 요소가 두개 이상인 경우 소괄호만 사용한다."
   ]
  },
  {
   "cell_type": "code",
   "execution_count": 201,
   "id": "23a779ec-1ace-479a-987d-623857b8539f",
   "metadata": {},
   "outputs": [
    {
     "name": "stdout",
     "output_type": "stream",
     "text": [
      "(1, 2, 3, 4, 5, 6)\n"
     ]
    }
   ],
   "source": [
    "l = [] # 빈 리스트\n",
    "t = () # 빈 튜플\n",
    "l = [1] # 요소가 하나인 리스트\n",
    "t = (1,) # 요소가 하나인 튜플\n",
    "l = [1,2,3,4,5] # 정수형 리스트\n",
    "t = (1,2,3,4,5) # 정수형 튜플\n",
    "t = (10.5,2.5,30.6) # 실수형 튜플\n",
    "t = ('a','b','c') # 문자열형 튜플\n",
    "t = (1,2,3,'a','b','c') # 혼합형 튜플\n",
    "t = (1,2,3,'a','b','c',[4,5,6]) # 리스트를 포함한 혼합형 튜플\n",
    "t = (1,2,3,'a','b','c',(4,5,6)) # 튜플을 포함한 혼합형 튜플\n",
    "t = (1,2,3,'a','b','c',(4,5,6),[7,8,9]) # 혼합형 튜플\n",
    "t = [1,2,3,'a','b','c',(4,5,6),[7,8,9]] # 혼합형 리스트\n",
    "t = 1,2,3,4,5,6 # : 튜플이 됨\n",
    "print(t)"
   ]
  },
  {
   "cell_type": "code",
   "execution_count": 216,
   "id": "72a26886-ba5d-424e-a3f9-d901bf872eb0",
   "metadata": {},
   "outputs": [
    {
     "name": "stdout",
     "output_type": "stream",
     "text": [
      "['Life', 'is', 'too', 'short']\n",
      "('Life', 'is', 'too', 'short')\n",
      "f\n",
      "too\n",
      "too\n",
      "fe\n",
      "['too', 'short']\n",
      "('too', 'short')\n",
      "******************************************************************************************\n",
      "Lif\n",
      "['Life', 'is', 'too']\n",
      "('Life', 'is', 'too')\n",
      "******************************************************************************************\n",
      "Li\n",
      "['too', 'short']\n",
      "('too', 'short')\n",
      "******************************************************************************************\n"
     ]
    }
   ],
   "source": [
    "stri = \"Life is too short\"\n",
    "l1 = [\"Life\",\"is\",\"too\",\"short\"];\n",
    "print(l1)\n",
    "\n",
    "t1 = (\"Life\",\"is\",\"too\",\"short\");\n",
    "print(t1)\n",
    "\n",
    "print(stri[2])\n",
    "print(l1[2])\n",
    "print(t1[2])\n",
    "# slicing\n",
    "print(stri[2:2+2])   # 자바 type : str1.substring(1, 1+2)\n",
    "print(l1[2:2+2])   \n",
    "print(t1[2:2+2])\n",
    "print(\"*\"*90)\n",
    "print(stri[:3])\n",
    "print(l1[:3])\n",
    "print(t1[:3])\n",
    "print(\"*\"*90)\n",
    "print(stri[:2])\n",
    "print(l1[2:])\n",
    "print(t1[2:])\n",
    "print(\"*\"*90)\n"
   ]
  },
  {
   "cell_type": "code",
   "execution_count": 230,
   "id": "aaa42617-299f-41e3-9895-5d8fce699003",
   "metadata": {},
   "outputs": [
    {
     "name": "stdout",
     "output_type": "stream",
     "text": [
      "Life is too short\n",
      "['Life', 'is', 'too', 'short']\n",
      "['is', 'too', 'short']\n",
      "4\n",
      "1\n",
      "2\n",
      "2\n",
      "2\n"
     ]
    }
   ],
   "source": [
    "str1 = \"Lyfe is too short\"\n",
    "l1 = [\"Lyfe\",\"is\",\"too\",\"short\"]\n",
    "t1 = (\"Lyfe\",\"is\",\"too\",\"short\")\n",
    "\n",
    "strr1 = str1.replace(\"Lyfe\",\"Life\")\n",
    "print(strr1)\n",
    "\n",
    "l1[0] = 'Life'\n",
    "print(l1)\n",
    "## 리스트와 튜플의 차이\n",
    "    # 리스트는 요소를 변경할 수 있지만 튜플은 요소를 변경할 수 없다. 자바 : 상수(변하지 않는 수)와 같다 FINAL변수와 같다.\n",
    "    # 밑처럼 변경하려고 하면 오류가 나버림.\n",
    "\n",
    "# t1[0] = 'Life'\n",
    "# print(t1)\n",
    "\n",
    "del l1[0]\n",
    "print(l1)\n",
    "# del t1(0)     /     요소가 변경되지 않으니 삭제도 되지 않는다 .!\n",
    "print(len(t1))\n",
    "\n",
    "idex = l1.index(\"too\")\n",
    "print(idex)\n",
    "\n",
    "# index,find 같은 요소가 변경되지 않는 함수들은 사용이 가능하다.\n",
    "idex = t1.index(\"too\")\n",
    "print(idex)\n",
    "\n",
    "l = [1,1,2,2,3,3,4,4,5,5,6,6]\n",
    "t = (1,1,2,2,3,3,4,4,5,5,6,6)\n",
    "print(l.count(1))\n",
    "print(t.count(1))"
   ]
  },
  {
   "cell_type": "code",
   "execution_count": 236,
   "id": "ac652825-9c98-49f5-ae39-3dbbb88d778c",
   "metadata": {},
   "outputs": [
    {
     "name": "stdout",
     "output_type": "stream",
     "text": [
      "Lyfe\n",
      "Lyfe\n",
      "******************************************************************************************\n",
      "['is', 'too']\n",
      "('is', 'too')\n",
      "******************************************************************************************\n",
      "['is', 'too', 'too', 'short']\n",
      "('is', 'too', 'too', 'short')\n",
      "******************************************************************************************\n",
      "3\n",
      "3\n",
      "******************************************************************************************\n",
      "['is', 'too', 'is', 'too', 'is', 'too']\n",
      "('is', 'too', 'is', 'too', 'is', 'too')\n"
     ]
    }
   ],
   "source": [
    "l1 = [\"Lyfe\",\"is\",\"too\",\"short\",3]\n",
    "t1 = (\"Lyfe\",\"is\",\"too\",\"short\",3)\n",
    "print(l1[0]) # 문자\n",
    "print(t1[0]) # 문자\n",
    "print(\"*\"*90)\n",
    "print(l1[1:3]) # 리스트\n",
    "print(t1[1:3]) # 튜플\n",
    "print(\"*\"*90)\n",
    "print(l1[1:3] + l1[2:2+2]) # 리스트 + 리스트 = 연결 연산\n",
    "print(t1[1:3] + t1[2:2+2]) # 튜플 + 튜플 = 연결 연산\n",
    "print(\"*\"*90)\n",
    "print(l1[4]) # 정수\n",
    "print(t1[4]) # 정수\n",
    "print(\"*\"*90)\n",
    "print(l1[1:3] * l1[4]) # 리스트 * 정수 = 반복 연산\n",
    "print(t1[1:3] * l1[4]) # 튜플 * 정수 = 반복 연산"
   ]
  },
  {
   "cell_type": "code",
   "execution_count": 250,
   "id": "74e0e04a-d97e-4c6b-8553-338f4fb98298",
   "metadata": {},
   "outputs": [
    {
     "name": "stdout",
     "output_type": "stream",
     "text": [
      "3\n",
      "10\n",
      "['h', 'e', 'l', 'l', 'o']\n",
      "('h', 'e', 'l', 'l', 'o')\n",
      "1010\n",
      "hello\n",
      "['h', 'e', 'l', 'l', 'o']10\n",
      "hello\n",
      "h,e,l,l,o\n",
      "('h', 'e', 'l', 'l', 'o')10\n"
     ]
    }
   ],
   "source": [
    "# 형 변환 함수 / str(), int(), list(), tuple()\n",
    "str2 = \"hello\"\n",
    "num1 = \"3\"\n",
    "i = 10\n",
    "\n",
    "print(int(num1))\n",
    "print(str(i))\n",
    "print(list(str2))\n",
    "print(tuple(str2))\n",
    "print(str(i) + \"10\")\n",
    "\n",
    "l = ['h','e','l','l','o']\n",
    "print(\"\".join(l)) # 리스트를 문자열로 형변환 할때는 join 사용.\n",
    "print(str(l) + \"10\")\n",
    "\n",
    "t = ('h','e','l','l','o')\n",
    "print(\"\".join(t)) # 튜플을 문자열로 형변환 할때는 join 사용.\n",
    "print(','.join(t)) \n",
    "print(str(t) + \"10\")"
   ]
  }
 ],
 "metadata": {
  "kernelspec": {
   "display_name": "Python 3 (ipykernel)",
   "language": "python",
   "name": "python3"
  },
  "language_info": {
   "codemirror_mode": {
    "name": "ipython",
    "version": 3
   },
   "file_extension": ".py",
   "mimetype": "text/x-python",
   "name": "python",
   "nbconvert_exporter": "python",
   "pygments_lexer": "ipython3",
   "version": "3.12.1"
  }
 },
 "nbformat": 4,
 "nbformat_minor": 5
}
